{
 "cells": [
  {
   "cell_type": "markdown",
   "id": "db768cda",
   "metadata": {
    "id": "db768cda",
    "pycharm": {
     "name": "#%% md\n"
    }
   },
   "source": [
    "<td>\n",
    "   <a target=\"_blank\" href=\"https://labelbox.com\" ><img src=\"https://labelbox.com/blog/content/images/2021/02/logo-v4.svg\" width=256/></a>\n",
    "</td>"
   ]
  },
  {
   "cell_type": "markdown",
   "id": "cb5611d0",
   "metadata": {
    "id": "cb5611d0",
    "pycharm": {
     "name": "#%% md\n"
    }
   },
   "source": [
    "<td>\n",
    "<a href=\"https://colab.research.google.com/github/Labelbox/labelbox-python/blob/develop/examples/annotation_import/basics.ipynb\" target=\"_blank\"><img\n",
    "src=\"https://colab.research.google.com/assets/colab-badge.svg\" alt=\"Open In Colab\"></a>\n",
    "</td>\n",
    "\n",
    "<td>\n",
    "<a href=\"https://github.com/Labelbox/labelbox-python/tree/develop/examples/annotation_import/basics.ipynb\" target=\"_blank\"><img\n",
    "src=\"https://img.shields.io/badge/GitHub-100000?logo=github&logoColor=white\" alt=\"GitHub\"></a>\n",
    "</td>"
   ]
  },
  {
   "cell_type": "markdown",
   "id": "fundamental-failure",
   "metadata": {
    "id": "fundamental-failure",
    "pycharm": {
     "name": "#%% md\n"
    }
   },
   "source": [
    "# Annotation Imports\n",
    "* This notebook is a high level introduction demonstrating multiple ways to upload your annotations. This will cover the following:\n",
    "    * Model-assisted labeling - used to provide pre-annotated data for your labelers. This will enable a reduction in the total amount of time to properly label your assets. Model-assisted labeling does not submit the labels automatically, and will need to be reviewed by a labeler for submission.\n",
    "    * Label Import - used to provide ground truth labels. These can in turn be used and compared against prediction labels, or used as benchmarks to see how your labelers are doing.\n",
    "\n",
    "\n",
    "* For complete examples see image_mal.ipynb or ner_mal.ipynb"
   ]
  },
  {
   "cell_type": "markdown",
   "id": "registered-parts",
   "metadata": {
    "id": "registered-parts",
    "pycharm": {
     "name": "#%% md\n"
    }
   },
   "source": [
    "* For information on what types of annotations are supported per data type, refer to this [documentation](https://docs.labelbox.com/docs/model-assisted-labeling#option-1-import-via-python-annotation-types-recommended)"
   ]
  },
  {
   "cell_type": "markdown",
   "id": "legislative-violence",
   "metadata": {
    "id": "legislative-violence",
    "pycharm": {
     "name": "#%% md\n"
    }
   },
   "source": [
    "* Notes:\n",
    "    * If you are importing more than 1,000 mask annotations at a time, consider submitting separate jobs, as they can take longer than other annotation types to import.\n",
    "    * Wait until the import job is complete before opening the Editor to make sure all annotations are imported properly."
   ]
  },
  {
   "cell_type": "markdown",
   "id": "70072299-2ffe-4ea3-9af1-410d9bfd18cc",
   "metadata": {
    "id": "70072299-2ffe-4ea3-9af1-410d9bfd18cc",
    "pycharm": {
     "name": "#%% md\n"
    }
   },
   "source": [
    "# Installs"
   ]
  },
  {
   "cell_type": "code",
   "execution_count": null,
   "id": "pointed-disability",
   "metadata": {
    "id": "pointed-disability",
    "pycharm": {
     "name": "#%%\n"
    }
   },
   "outputs": [],
   "source": [
    "!pip install -q 'labelbox[data]'"
   ]
  },
  {
   "cell_type": "markdown",
   "id": "a5c271de-1006-400e-a5bb-d466b833b734",
   "metadata": {
    "id": "a5c271de-1006-400e-a5bb-d466b833b734",
    "pycharm": {
     "name": "#%% md\n"
    }
   },
   "source": [
    "# Imports"
   ]
  },
  {
   "cell_type": "code",
   "execution_count": null,
   "id": "guided-arthritis",
   "metadata": {
    "id": "guided-arthritis",
    "pycharm": {
     "name": "#%%\n"
    }
   },
   "outputs": [],
   "source": [
    "import labelbox\n",
    "from labelbox.schema.ontology import OntologyBuilder, Tool\n",
    "from labelbox import Client, LabelingFrontend, LabelImport, MALPredictionImport, MediaType\n",
    "from labelbox.schema.queue_mode import QueueMode\n",
    "from labelbox.data.annotation_types import (\n",
    "    Label, ImageData, ObjectAnnotation, Rectangle, Point, LabelList\n",
    ")\n",
    "from labelbox.data.serialization import NDJsonConverter\n",
    "import uuid\n",
    "print(labelbox.__version__)"
   ]
  },
  {
   "cell_type": "markdown",
   "id": "7ff330d7",
   "metadata": {
    "id": "7ff330d7",
    "pycharm": {
     "name": "#%% md\n"
    }
   },
   "source": [
    "# API Key and Client\n",
    "Provide a valid api key below in order to properly connect to the Labelbox Client."
   ]
  },
  {
   "cell_type": "code",
   "execution_count": null,
   "id": "preliminary-benchmark",
   "metadata": {
    "id": "preliminary-benchmark",
    "outputId": "8cf16a44-d0b8-477f-b361-43865b2fc572",
    "pycharm": {
     "name": "#%%\n"
    }
   },
   "outputs": [
    {
     "name": "stderr",
     "output_type": "stream",
     "text": [
      "INFO:labelbox.client:Initializing Labelbox client at 'https://api.labelbox.com/graphql'\n"
     ]
    }
   ],
   "source": [
    "# Add your api key\n",
    "API_KEY = None\n",
    "client = Client(api_key=API_KEY)"
   ]
  },
  {
   "cell_type": "markdown",
   "id": "working-holiday",
   "metadata": {
    "id": "working-holiday",
    "pycharm": {
     "name": "#%% md\n"
    }
   },
   "source": [
    "---- \n",
    "### Steps\n",
    "1. Make sure project is setup\n",
    "2. Collect annotations\n",
    "3. Upload"
   ]
  },
  {
   "cell_type": "markdown",
   "id": "thirty-socket",
   "metadata": {
    "id": "thirty-socket",
    "pycharm": {
     "name": "#%% md\n"
    }
   },
   "source": [
    "### Project setup"
   ]
  },
  {
   "cell_type": "markdown",
   "id": "bf25188e-cc79-477a-9b80-0a764449808d",
   "metadata": {
    "id": "bf25188e-cc79-477a-9b80-0a764449808d",
    "pycharm": {
     "name": "#%% md\n"
    }
   },
   "source": [
    "We will be creating two projects, one for model-assisted labeling, and one for label imports"
   ]
  },
  {
   "cell_type": "code",
   "execution_count": null,
   "id": "advanced-trash",
   "metadata": {
    "id": "advanced-trash",
    "pycharm": {
     "name": "#%%\n"
    }
   },
   "outputs": [],
   "source": [
    "# Only update this if you have an on-prem deployment\n",
    "ontology_builder = OntologyBuilder(tools=[\n",
    "    Tool(tool=Tool.Type.BBOX, name=\"box\")\n",
    "])\n",
    "\n",
    "\n",
    "mal_project = client.create_project(name=\"image_mal_project\",\n",
    "                                    queue_mode=QueueMode.Batch,\n",
    "                                    media_type=MediaType.Image)\n",
    "li_project = client.create_project(name=\"image_label_import_project\",\n",
    "                                    queue_mode=QueueMode.Batch,\n",
    "                                    media_type=MediaType.Image)\n",
    "\n",
    "\n",
    "dataset = client.create_dataset(name=\"annotation_import_demo_dataset\")\n",
    "\n",
    "test_img_url = {\n",
    "    \"row_data\": \"https://raw.githubusercontent.com/Labelbox/labelbox-python/develop/examples/assets/2560px-Kitano_Street_Kobe01s5s4110.jpg\",\n",
    "    \"global_key\": \"TEST-ID %id\" % uuid.uuid1()\n",
    "}\n",
    "\n",
    "data_row = dataset.create_data_row(test_img_url)\n",
    "print(data_row)"
   ]
  },
  {
   "cell_type": "markdown",
   "source": [
    "# Setup Batches and Ontology"
   ],
   "metadata": {
    "collapsed": false,
    "pycharm": {
     "name": "#%% md\n"
    }
   }
  },
  {
   "cell_type": "code",
   "execution_count": null,
   "outputs": [],
   "source": [
    "\n",
    "# We need the data row ID to create a batch\n",
    "batch_datarows = [dr.uid for dr in list(dataset.export_data_rows())]\n",
    "\n",
    "# Create a batch to send to your MAL project\n",
    "batch_mal = mal_project.create_batch(\n",
    "  \"first-batch-MAL\", # Each batch in a project must have a unique name\n",
    "  batch_datarows, # A list of data rows or data row ids\n",
    "  5 # priority between 1(Highest) - 5(lowest)\n",
    ")\n",
    "\n",
    "# Create a batch to send to you LIM project\n",
    "batch_li = li_project.create_batch(\n",
    "    \"first-batch-LIM\", # Each batch in a project must have a unique name\n",
    "    batch_datarows, # A list of data rows or data row ids\n",
    "    5 # priority between 1(Highest) - 5(lowest)\n",
    ")\n",
    "\n",
    "# Setup your ontology / labeling editor\n",
    "editor = next(client.get_labeling_frontends(where=LabelingFrontend.name == \"Editor\")) # Unless using a custom editor,\n",
    "# Connect your ontology and editor to your MAL and LI project\n",
    "mal_project.setup(editor, ontology_builder.asdict())\n",
    "li_project.setup(editor, ontology_builder.asdict())\n",
    "\n",
    "print(\"Batch Li: \", batch_li)\n",
    "print(\"Batch Mal: \", batch_mal)"
   ],
   "metadata": {
    "collapsed": false,
    "pycharm": {
     "name": "#%%\n"
    }
   }
  },
  {
   "cell_type": "markdown",
   "id": "aging-disability",
   "metadata": {
    "id": "aging-disability",
    "pycharm": {
     "name": "#%% md\n"
    }
   },
   "source": [
    "#### Create Label using Annotation Type Objects\n",
    "* It is recommended to use the Python SDK's annotation types. Below is an example of a bounding box, which is the Rectangle annotation type\n",
    "\n",
    "* A more in depth example can be found [here](https://docs.labelbox.com/docs/bounding-box-json)"
   ]
  },
  {
   "cell_type": "code",
   "execution_count": null,
   "id": "framed-gateway",
   "metadata": {
    "id": "framed-gateway",
    "outputId": "7648c444-4d77-4b10-b8ba-23f181567fcb",
    "pycharm": {
     "name": "#%%\n",
     "is_executing": true
    }
   },
   "outputs": [],
   "source": [
    "# Create a label with the related data and annotations\n",
    "# Then we assign the feature schema id based on an existing project's ontology\n",
    "# Assignment of the feature schema will be done per each project below\n",
    "rectangle = Rectangle(start=Point(x=30,y=30), end=Point(x=200,y=200))\n",
    "rectangle_annotation = ObjectAnnotation(value=rectangle, name=\"box\")\n",
    "image_data = ImageData(uid=data_row.uid)\n",
    "\n",
    "label = Label(\n",
    "    data=image_data,\n",
    "    annotations = [rectangle_annotation]\n",
    ")\n",
    "\n",
    "label"
   ]
  },
  {
   "cell_type": "markdown",
   "id": "continental-greeting",
   "metadata": {
    "id": "continental-greeting",
    "pycharm": {
     "name": "#%% md\n"
    }
   },
   "source": [
    "### Model Assisted Labeling "
   ]
  },
  {
   "cell_type": "markdown",
   "id": "c6244b5e-08d7-4f3e-9689-d44539ad58c0",
   "metadata": {
    "id": "c6244b5e-08d7-4f3e-9689-d44539ad58c0",
    "pycharm": {
     "name": "#%% md\n"
    }
   },
   "source": [
    "To do model-assisted labeling, we need to convert a Label object into an NDJSON. \n",
    "\n",
    "This is easily done with using the NDJSONConverter class\n",
    "\n",
    "We will create a Label called mal_label which has the same original structure as the label above\n",
    "\n",
    "Notes:\n",
    "* the NDJsonConverter takes in a list of labels"
   ]
  },
  {
   "cell_type": "code",
   "execution_count": null,
   "id": "10b19393-920a-45c8-9660-42d8c449b9c2",
   "metadata": {
    "id": "10b19393-920a-45c8-9660-42d8c449b9c2",
    "outputId": "a93a39de-c8ed-402c-b834-304b1ba8854a",
    "pycharm": {
     "name": "#%%\n"
    }
   },
   "outputs": [],
   "source": [
    "mal_label = Label(\n",
    "    data=image_data,\n",
    "    annotations = [rectangle_annotation]\n",
    ")\n",
    "mal_label_list = LabelList()\n",
    "mal_label_list.append(mal_label)\n",
    "\n",
    "mal_ndjson = list(NDJsonConverter.serialize(mal_label_list))\n",
    "\n",
    "mal_ndjson"
   ]
  },
  {
   "cell_type": "code",
   "execution_count": null,
   "id": "criminal-register",
   "metadata": {
    "id": "criminal-register",
    "pycharm": {
     "name": "#%%\n"
    }
   },
   "outputs": [],
   "source": [
    "upload_job = MALPredictionImport.create_from_objects(\n",
    "    client = client, \n",
    "    project_id = mal_project.uid, \n",
    "    name=\"upload_label_import_job\", \n",
    "    predictions=mal_ndjson)"
   ]
  },
  {
   "cell_type": "code",
   "execution_count": null,
   "id": "welsh-nutrition",
   "metadata": {
    "id": "welsh-nutrition",
    "outputId": "c13baac2-508b-4018-c594-dc92d6efe8a1",
    "pycharm": {
     "name": "#%%\n"
    }
   },
   "outputs": [
    {
     "name": "stderr",
     "output_type": "stream",
     "text": [
      "INFO:labelbox.schema.annotation_import:Sleeping for 10 seconds...\n"
     ]
    },
    {
     "name": "stdout",
     "output_type": "stream",
     "text": [
      "Errors: []\n"
     ]
    }
   ],
   "source": [
    "# Errors will appear for each annotation that failed.\n",
    "# Empty list means that there were no errors\n",
    "# This will provide information only after the upload_job is complete, so we do not need to worry about having to rerun\n",
    "upload_job.wait_until_done()\n",
    "print(\"Errors:\", upload_job.errors)"
   ]
  },
  {
   "cell_type": "markdown",
   "id": "dd1441ee-7c04-4326-a094-2ca34a3548e6",
   "metadata": {
    "id": "dd1441ee-7c04-4326-a094-2ca34a3548e6",
    "pycharm": {
     "name": "#%% md\n"
    }
   },
   "source": [
    "### Label Import"
   ]
  },
  {
   "cell_type": "markdown",
   "id": "41d103bc-a5fd-4f0b-95f0-7e9bc59fbd07",
   "metadata": {
    "id": "41d103bc-a5fd-4f0b-95f0-7e9bc59fbd07",
    "pycharm": {
     "name": "#%% md\n"
    }
   },
   "source": [
    "Label import is very similar to model-assisted labeling. We will create a Label called li_label which has the same original structure as the label above"
   ]
  },
  {
   "cell_type": "code",
   "execution_count": null,
   "id": "c95716d5-a1ee-46fe-8dca-313ce10f104f",
   "metadata": {
    "id": "c95716d5-a1ee-46fe-8dca-313ce10f104f",
    "outputId": "0e83d5d0-1f51-4903-c777-f9c331781656",
    "pycharm": {
     "name": "#%%\n"
    }
   },
   "outputs": [],
   "source": [
    "li_label = Label(\n",
    "    data=image_data,\n",
    "    annotations = [rectangle_annotation]\n",
    ")\n",
    "li_label_list = LabelList()\n",
    "li_label_list.append(li_label)\n",
    "ndjson_labels = list(NDJsonConverter.serialize(li_label_list))\n",
    "\n",
    "ndjson_labels"
   ]
  },
  {
   "cell_type": "code",
   "execution_count": null,
   "id": "ef24f3cd-9d16-4e13-af25-7ebcda7dd4d2",
   "metadata": {
    "id": "ef24f3cd-9d16-4e13-af25-7ebcda7dd4d2",
    "pycharm": {
     "name": "#%%\n"
    }
   },
   "outputs": [],
   "source": [
    "upload_job = LabelImport.create_from_objects(\n",
    "    client = client, \n",
    "    project_id = li_project.uid, \n",
    "    name=\"upload_label_import_job\", \n",
    "    labels=ndjson_labels)"
   ]
  },
  {
   "cell_type": "code",
   "execution_count": null,
   "id": "c8fba013-7bad-4188-bbe6-47f9f857ec66",
   "metadata": {
    "id": "c8fba013-7bad-4188-bbe6-47f9f857ec66",
    "outputId": "95939547-8c24-431e-dec9-7221686856b5",
    "pycharm": {
     "name": "#%%\n",
     "is_executing": true
    }
   },
   "outputs": [],
   "source": [
    "upload_job.wait_until_done()\n",
    "print(\"Errors:\", upload_job.errors)\n"
   ]
  }
 ],
 "metadata": {
  "colab": {
   "collapsed_sections": [],
   "name": "basics.ipynb",
   "provenance": []
  },
  "kernelspec": {
   "display_name": "Python 3",
   "language": "python",
   "name": "python3"
  },
  "language_info": {
   "codemirror_mode": {
    "name": "ipython",
    "version": 3
   },
   "file_extension": ".py",
   "mimetype": "text/x-python",
   "name": "python",
   "nbconvert_exporter": "python",
   "pygments_lexer": "ipython3",
   "version": "3.8.8"
  }
 },
 "nbformat": 4,
 "nbformat_minor": 5
}